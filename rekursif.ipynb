{
 "cells": [
  {
   "cell_type": "code",
   "execution_count": 1,
   "id": "341017c9-d6f0-4f72-9530-f35a6c1131eb",
   "metadata": {},
   "outputs": [
    {
     "name": "stdin",
     "output_type": "stream",
     "text": [
      "Masukkan jumlah angka yang ingin dijumlahkan:  5\n",
      "Masukkan angka ke-1:  1\n",
      "Masukkan angka ke-2:  2\n",
      "Masukkan angka ke-3:  3\n",
      "Masukkan angka ke-4:  4\n",
      "Masukkan angka ke-5:  5\n"
     ]
    },
    {
     "name": "stdout",
     "output_type": "stream",
     "text": [
      "Hasil penjumlahan: 15.0\n"
     ]
    }
   ],
   "source": [
    "def rekursif(n, urutan=1, total=0):\n",
    "    if urutan > n:\n",
    "        print(\"Hasil penjumlahan:\", total)\n",
    "    else:\n",
    "        angka = float(input(f\"Masukkan angka ke-{urutan}: \"))\n",
    "        total += angka\n",
    "        rekursif(n, urutan + 1, total)\n",
    "jumlah = int(input(\"Masukkan jumlah angka yang ingin dijumlahkan: \"))\n",
    "rekursif(jumlah)"
   ]
  },
  {
   "cell_type": "code",
   "execution_count": null,
   "id": "616a8d23-1a6a-43fa-adc7-ed3a79ea1d37",
   "metadata": {},
   "outputs": [],
   "source": []
  }
 ],
 "metadata": {
  "kernelspec": {
   "display_name": "Python 3 (ipykernel)",
   "language": "python",
   "name": "python3"
  },
  "language_info": {
   "codemirror_mode": {
    "name": "ipython",
    "version": 3
   },
   "file_extension": ".py",
   "mimetype": "text/x-python",
   "name": "python",
   "nbconvert_exporter": "python",
   "pygments_lexer": "ipython3",
   "version": "3.12.4"
  }
 },
 "nbformat": 4,
 "nbformat_minor": 5
}
