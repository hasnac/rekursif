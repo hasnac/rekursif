{
 "cells": [
  {
   "cell_type": "code",
   "execution_count": 43,
   "id": "9b03884d-028b-40f0-87e8-87979b059a7b",
   "metadata": {},
   "outputs": [
    {
     "name": "stdin",
     "output_type": "stream",
     "text": [
      "Angka:  2\n",
      "Pangkat:  -4\n"
     ]
    },
    {
     "name": "stdout",
     "output_type": "stream",
     "text": [
      "0.0625\n"
     ]
    }
   ],
   "source": [
    "def pangkat_rekursif(angka, pangkat):\n",
    "    if pangkat == 0: \n",
    "        return 1\n",
    "    elif pangkat > 0:  \n",
    "        return angka ** pangkat\n",
    "    else:  \n",
    "        return 1 / (pangkat * pangkat)\n",
    "\n",
    "angka = input(\"Angka: \")\n",
    "if angka == '':\n",
    "    print(\"bye\") \n",
    "else:\n",
    "    angka = float(angka)\n",
    "    pangkat = int(input(\"Pangkat: \"))\n",
    "    hasil = pangkat_rekursif(angka, pangkat)\n",
    "    print(hasil)"
   ]
  },
  {
   "cell_type": "code",
   "execution_count": null,
   "id": "90f4693d-6881-4ffc-8640-acbb721549b0",
   "metadata": {},
   "outputs": [],
   "source": []
  }
 ],
 "metadata": {
  "kernelspec": {
   "display_name": "Python 3 (ipykernel)",
   "language": "python",
   "name": "python3"
  },
  "language_info": {
   "codemirror_mode": {
    "name": "ipython",
    "version": 3
   },
   "file_extension": ".py",
   "mimetype": "text/x-python",
   "name": "python",
   "nbconvert_exporter": "python",
   "pygments_lexer": "ipython3",
   "version": "3.12.4"
  }
 },
 "nbformat": 4,
 "nbformat_minor": 5
}
